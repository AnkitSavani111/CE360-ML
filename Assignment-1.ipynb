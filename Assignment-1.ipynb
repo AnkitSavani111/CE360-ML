{
 "cells": [
  {
   "cell_type": "code",
   "execution_count": 1,
   "metadata": {},
   "outputs": [],
   "source": [
    "import numpy as np"
   ]
  },
  {
   "cell_type": "markdown",
   "metadata": {},
   "source": [
    "# 4 ways of Dot product"
   ]
  },
  {
   "cell_type": "markdown",
   "metadata": {},
   "source": [
    "# reshape(-1,1)\n"
   ]
  },
  {
   "cell_type": "markdown",
   "metadata": {},
   "source": [
    "The reshape(-1, 1) operation reshapes the array into a 2-dimensional array with a single column.\n",
    "The -1 value acts as a placeholder for the number of rows, allowing NumPy to automatically calculate it based on the array's size.\n",
    "It is commonly used to convert a 1-dimensional array into a column vector."
   ]
  },
  {
   "cell_type": "code",
   "execution_count": 7,
   "metadata": {},
   "outputs": [
    {
     "name": "stdout",
     "output_type": "stream",
     "text": [
      "[[0]\n",
      " [1]\n",
      " [2]\n",
      " [3]\n",
      " [4]\n",
      " [5]]\n"
     ]
    }
   ],
   "source": [
    "# Create a 1D array\n",
    "arr = np.arange(6)\n",
    "\n",
    "# Reshape the array to have one column and as many rows as needed (-1)\n",
    "reshaped_arr = arr.reshape(-1, 1)\n",
    "print(reshaped_arr)"
   ]
  },
  {
   "cell_type": "markdown",
   "metadata": {},
   "source": [
    "# copy() function"
   ]
  },
  {
   "cell_type": "markdown",
   "metadata": {},
   "source": [
    "The copy() function in NumPy creates a new copy of the array, which is independent of the original array. Any modifications made to the copied array will not affect the original array, and vice versa."
   ]
  },
  {
   "cell_type": "code",
   "execution_count": 8,
   "metadata": {},
   "outputs": [
    {
     "name": "stdout",
     "output_type": "stream",
     "text": [
      "[1 2 3 4 5]\n",
      "[100   2   3   4   5]\n"
     ]
    }
   ],
   "source": [
    "# Create an array\n",
    "arr = np.array([1, 2, 3, 4, 5])\n",
    "\n",
    "# Create a copy of the array\n",
    "arr_copy = arr.copy()\n",
    "\n",
    "# Modify the copied array\n",
    "arr_copy[0] = 100\n",
    "\n",
    "# Original array remains unchanged\n",
    "print(arr)       # Output: [1 2 3 4 5]\n",
    "print(arr_copy)  # Output: [100 2 3 4 5]"
   ]
  },
  {
   "cell_type": "markdown",
   "metadata": {},
   "source": [
    "#   view()"
   ]
  },
  {
   "cell_type": "markdown",
   "metadata": {},
   "source": [
    "The view() function in NumPy returns a new array object with the same data as the original array but with a different shape or data type. Unlike copy(), the view() function does not create a new copy of the data; instead, it creates a view of the original array."
   ]
  },
  {
   "cell_type": "code",
   "execution_count": 9,
   "metadata": {},
   "outputs": [
    {
     "name": "stdout",
     "output_type": "stream",
     "text": [
      "[100   2   3   4   5]\n",
      "[100   2   3   4   5]\n"
     ]
    }
   ],
   "source": [
    "arr = np.array([1, 2, 3, 4, 5])\n",
    "\n",
    "# Create a view of the array\n",
    "arr_view = arr.view()\n",
    "\n",
    "# Modify the view\n",
    "arr_view[0] = 100\n",
    "\n",
    "# The original array is also affected\n",
    "print(arr)      # Output: [100   2   3   4   5]\n",
    "print(arr_view) # Output: [100   2   3   4   5]"
   ]
  },
  {
   "cell_type": "markdown",
   "metadata": {},
   "source": [
    "# Broadcasting"
   ]
  },
  {
   "cell_type": "markdown",
   "metadata": {},
   "source": [
    "Broadcasting is a powerful feature in NumPy that allows arrays with different shapes to be combined or operated upon together. When performing element-wise operations between arrays of different shapes, NumPy automatically broadcasts the arrays to compatible shapes before applying the operation.\n",
    "\n"
   ]
  },
  {
   "cell_type": "code",
   "execution_count": 10,
   "metadata": {},
   "outputs": [
    {
     "name": "stdout",
     "output_type": "stream",
     "text": [
      "[[11 12 13]\n",
      " [14 15 16]]\n"
     ]
    }
   ],
   "source": [
    "# Create a 2D array\n",
    "arr = np.array([[1, 2, 3], [4, 5, 6]])\n",
    "\n",
    "# Add a scalar to the array using broadcasting\n",
    "result = arr + 10\n",
    "\n",
    "print(result)"
   ]
  }
 ],
 "metadata": {
  "kernelspec": {
   "display_name": "Python 3",
   "language": "python",
   "name": "python3"
  },
  "language_info": {
   "codemirror_mode": {
    "name": "ipython",
    "version": 3
   },
   "file_extension": ".py",
   "mimetype": "text/x-python",
   "name": "python",
   "nbconvert_exporter": "python",
   "pygments_lexer": "ipython3",
   "version": "3.10.11"
  },
  "orig_nbformat": 4
 },
 "nbformat": 4,
 "nbformat_minor": 2
}
